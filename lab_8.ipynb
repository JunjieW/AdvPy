{
 "cells": [
  {
   "cell_type": "code",
   "execution_count": null,
   "metadata": {
    "collapsed": false
   },
   "outputs": [],
   "source": [
    "import numpy as np\n",
    "%load_ext Cython"
   ]
  },
  {
   "cell_type": "markdown",
   "metadata": {},
   "source": [
    "# Advanced Python Programming – Lab 8\n",
    "In this Lab, we'll use iteration over arrays to implement a more efficient way to compute the squared sum of a matrix using Cython. This example is extracted from the [Numpy Documentation](https://docs.scipy.org/doc/numpy/reference/arrays.nditer.html)."
   ]
  },
  {
   "cell_type": "markdown",
   "metadata": {},
   "source": [
    "# Questions?\n",
    "\n",
    "Difference between compile-time type and run-time type?\n",
    "For every type in the numpy module there's a corresponding compile-time type with a **\\_t-suffix**."
   ]
  },
  {
   "cell_type": "markdown",
   "metadata": {},
   "source": [
    "## Warm-up\n",
    "Check out how [numpy iterators](https://docs.scipy.org/doc/numpy/reference/generated/numpy.nditer.html#numpy.nditer) work."
   ]
  },
  {
   "cell_type": "code",
   "execution_count": 2,
   "metadata": {
    "collapsed": false
   },
   "outputs": [],
   "source": [
    "a = np.arange(6).reshape(2, 3)"
   ]
  },
  {
   "cell_type": "code",
   "execution_count": 3,
   "metadata": {
    "collapsed": false
   },
   "outputs": [
    {
     "data": {
      "text/plain": [
       "array([[0, 1, 2],\n",
       "       [3, 4, 5]])"
      ]
     },
     "execution_count": 3,
     "metadata": {},
     "output_type": "execute_result"
    }
   ],
   "source": [
    "a"
   ]
  },
  {
   "cell_type": "code",
   "execution_count": 4,
   "metadata": {
    "collapsed": false
   },
   "outputs": [
    {
     "name": "stdout",
     "output_type": "stream",
     "text": [
      "0\n",
      "1\n",
      "2\n",
      "3\n",
      "4\n",
      "5\n"
     ]
    }
   ],
   "source": [
    "for x in np.nditer(a):\n",
    "    print(x)"
   ]
  },
  {
   "cell_type": "markdown",
   "metadata": {},
   "source": [
    "Notice that by deafault iterators traverse array elements in the same order they are stored in memory for efficiency."
   ]
  },
  {
   "cell_type": "code",
   "execution_count": 5,
   "metadata": {
    "collapsed": false
   },
   "outputs": [
    {
     "name": "stdout",
     "output_type": "stream",
     "text": [
      "0\n",
      "1\n",
      "2\n",
      "3\n",
      "4\n",
      "5\n"
     ]
    }
   ],
   "source": [
    "for x in np.nditer(a.T):\n",
    "    print(x)"
   ]
  },
  {
   "cell_type": "markdown",
   "metadata": {},
   "source": [
    "## 1) How would you compute the square sum of a matrix using built-in Numpy functions? Measure the time it takes to compute for a BIG matrix"
   ]
  },
  {
   "cell_type": "code",
   "execution_count": 6,
   "metadata": {
    "collapsed": false
   },
   "outputs": [],
   "source": [
    "b = np.arange(10000000).reshape(10000, 1000)"
   ]
  },
  {
   "cell_type": "code",
   "execution_count": 7,
   "metadata": {
    "collapsed": false
   },
   "outputs": [
    {
     "name": "stdout",
     "output_type": "stream",
     "text": [
      "The slowest run took 4.80 times longer than the fastest. This could mean that an intermediate result is being cached.\n",
      "10000 loops, best of 3: 25.1 µs per loop\n"
     ]
    }
   ],
   "source": [
    "%timeit np.sum(np.square(a))\n",
    "# or np.sum(a*a)\n",
    "# or np.sum(a**2)"
   ]
  },
  {
   "cell_type": "code",
   "execution_count": 8,
   "metadata": {
    "collapsed": false
   },
   "outputs": [
    {
     "name": "stdout",
     "output_type": "stream",
     "text": [
      "10 loops, best of 3: 66.6 ms per loop\n"
     ]
    }
   ],
   "source": [
    "%timeit np.sum(np.square(b))"
   ]
  },
  {
   "cell_type": "markdown",
   "metadata": {},
   "source": [
    "## Now let's build our own function to calculate the square sum using Cython and beat that time!\n",
    "... but first, we need to learn some other concepts about array iteration\n",
    "\n",
    "### Modifying Array Values\n",
    "What happens if you execute the following code and why?"
   ]
  },
  {
   "cell_type": "code",
   "execution_count": 9,
   "metadata": {
    "collapsed": false
   },
   "outputs": [
    {
     "name": "stdout",
     "output_type": "stream",
     "text": [
      "0\n",
      "2\n",
      "4\n",
      "6\n",
      "8\n",
      "10\n"
     ]
    }
   ],
   "source": [
    "for x in np.nditer(a, op_flags=['readwrite']):\n",
    "    x = 2 * x\n",
    "    print(x)"
   ]
  },
  {
   "cell_type": "code",
   "execution_count": 10,
   "metadata": {
    "collapsed": false
   },
   "outputs": [
    {
     "data": {
      "text/plain": [
       "array([[0, 1, 2],\n",
       "       [3, 4, 5]])"
      ]
     },
     "execution_count": 10,
     "metadata": {},
     "output_type": "execute_result"
    }
   ],
   "source": [
    "a"
   ]
  },
  {
   "cell_type": "code",
   "execution_count": 11,
   "metadata": {
    "collapsed": false
   },
   "outputs": [
    {
     "name": "stdout",
     "output_type": "stream",
     "text": [
      "0\n",
      "2\n",
      "4\n",
      "6\n",
      "8\n",
      "10\n"
     ]
    }
   ],
   "source": [
    "for x in np.nditer(a, op_flags=['readwrite']):\n",
    "    x[...] = 2 * x\n",
    "    print(x)"
   ]
  },
  {
   "cell_type": "code",
   "execution_count": 12,
   "metadata": {
    "collapsed": false
   },
   "outputs": [
    {
     "data": {
      "text/plain": [
       "array([[ 0,  2,  4],\n",
       "       [ 6,  8, 10]])"
      ]
     },
     "execution_count": 12,
     "metadata": {},
     "output_type": "execute_result"
    }
   ],
   "source": [
    "a"
   ]
  },
  {
   "cell_type": "markdown",
   "metadata": {},
   "source": [
    "### Using an External Loop\n",
    "The **external_loop** flag option lets you iterate the elements by chunks instead of one by one.\n",
    "\n",
    "Check out the **buffered** option too, what is its purpose?"
   ]
  },
  {
   "cell_type": "code",
   "execution_count": 13,
   "metadata": {
    "collapsed": false
   },
   "outputs": [
    {
     "name": "stdout",
     "output_type": "stream",
     "text": [
      "[ 0  2  4  6  8 10]\n"
     ]
    }
   ],
   "source": [
    "for x in np.nditer(a, flags=['external_loop']):\n",
    "     print(x)"
   ]
  },
  {
   "cell_type": "markdown",
   "metadata": {},
   "source": [
    "## 2) Given the following code to perform a squared sum of elements in a matrix with respect to specified axis, Cython-ize it so that it is more efficient. \n",
    "\n",
    "Measure the difference with respect to the answer in question 1 and to the pure Python + Numpy implementation."
   ]
  },
  {
   "cell_type": "code",
   "execution_count": 14,
   "metadata": {
    "collapsed": false
   },
   "outputs": [],
   "source": [
    "def axis_to_axeslist(axis, ndim):\n",
    "    if axis is None:\n",
    "        return [-1] * ndim\n",
    "    else:\n",
    "        if type(axis) is not tuple:\n",
    "            axis = (axis,)\n",
    "        axeslist = [1] * ndim\n",
    "        for i in axis:\n",
    "            axeslist[i] = -1\n",
    "        ax = 0\n",
    "        for i in range(ndim):\n",
    "            if axeslist[i] != -1:\n",
    "                axeslist[i] = ax\n",
    "                ax += 1\n",
    "        return axeslist\n",
    "\n",
    "def sum_squares_py(arr, axis=None, out=None):\n",
    "    axeslist = axis_to_axeslist(axis, arr.ndim)\n",
    "    it = np.nditer([arr, out], flags=['reduce_ok', 'external_loop',\n",
    "                                      'buffered', 'delay_bufalloc'],\n",
    "                op_flags=[['readonly'], ['readwrite', 'allocate']],\n",
    "                op_axes=[None, axeslist],\n",
    "                op_dtypes=['float64', 'float64'])\n",
    "    it.operands[1][...] = 0\n",
    "    it.reset()\n",
    "    for x, y in it:\n",
    "        y[...] += x*x\n",
    "    return it.operands[1]\n",
    "\n",
    "\n",
    "# ... syntax in python\n",
    "#    http://stackoverflow.com/questions/772124/what-does-the-python-ellipsis-object-do\n",
    "#    http://stackoverflow.com/questions/42190783/what-does-three-dots-in-python-mean-when-indexing-what-looks-like-a-number"
   ]
  },
  {
   "cell_type": "code",
   "execution_count": 15,
   "metadata": {
    "collapsed": false
   },
   "outputs": [],
   "source": [
    "c = np.arange(6).reshape(2,3)"
   ]
  },
  {
   "cell_type": "code",
   "execution_count": 16,
   "metadata": {
    "collapsed": false
   },
   "outputs": [
    {
     "name": "stdout",
     "output_type": "stream",
     "text": [
      "10000 loops, best of 3: 62.6 µs per loop\n"
     ]
    }
   ],
   "source": [
    "%timeit sum_squares_py(c)"
   ]
  },
  {
   "cell_type": "code",
   "execution_count": 17,
   "metadata": {
    "collapsed": false
   },
   "outputs": [
    {
     "data": {
      "text/plain": [
       "array([  5.,  50.])"
      ]
     },
     "execution_count": 17,
     "metadata": {},
     "output_type": "execute_result"
    }
   ],
   "source": [
    "sum_squares_py(c, axis=-1)"
   ]
  },
  {
   "cell_type": "code",
   "execution_count": 18,
   "metadata": {
    "collapsed": false
   },
   "outputs": [],
   "source": [
    "%reload_ext Cython"
   ]
  },
  {
   "cell_type": "code",
   "execution_count": 22,
   "metadata": {
    "collapsed": false
   },
   "outputs": [
    {
     "name": "stderr",
     "output_type": "stream",
     "text": [
      "UsageError: unrecognized arguments: # this magic command must be the first line in a cell\n"
     ]
    }
   ],
   "source": [
    "%%cython  # this magic command must be the first line in a cell\n",
    "\n",
    "import numpy as np\n",
    "cimport numpy as np\n",
    "import cython\n",
    "\n",
    "# refer to the cython array iterate part\n",
    "# https://docs.scipy.org/doc/numpy/reference/arrays.nditer.html\n",
    "\n",
    "def axis_to_axeslist(axis, ndim):\n",
    "    if axis is None:\n",
    "        return [-1] * ndim\n",
    "    else:\n",
    "        if type(axis) is not tuple:\n",
    "            axis = (axis,)\n",
    "        axeslist = [1] * ndim\n",
    "        for i in axis:\n",
    "            axeslist[i] = -1\n",
    "        ax = 0\n",
    "        for i in range(ndim):\n",
    "            if axeslist[i] != -1:\n",
    "                axeslist[i] = ax\n",
    "                ax += 1\n",
    "        return axeslist\n",
    "    \n",
    "@cython.wraparound(False)\n",
    "@cython.boundscheck(False)\n",
    "cdef sum_squares_py(arr, axis=None, out=None):\n",
    "    axeslist = axis_to_axeslist(axis, arr.ndim)\n",
    "    it = np.nditer([arr, out], flags=['reduce_ok', 'external_loop',\n",
    "                                      'buffered', 'delay_bufalloc'],\n",
    "                op_flags=[['readonly'], ['readwrite', 'allocate']],\n",
    "                op_axes=[None, axeslist],\n",
    "                op_dtypes=['float64', 'float64'])\n",
    "    it.operands[1][...] = 0\n",
    "    it.reset()\n",
    "    cdef double x\n",
    "    cdef double y\n",
    "    for x, y in it:\n",
    "        y[...] += x*x\n",
    "    return it.operands[1]"
   ]
  },
  {
   "cell_type": "code",
   "execution_count": null,
   "metadata": {
    "collapsed": false
   },
   "outputs": [],
   "source": [
    "%timeit sum_squares_py(c)"
   ]
  },
  {
   "cell_type": "code",
   "execution_count": null,
   "metadata": {
    "collapsed": false
   },
   "outputs": [],
   "source": [
    "%timeit sum_squares_py(b)"
   ]
  },
  {
   "cell_type": "code",
   "execution_count": 27,
   "metadata": {
    "collapsed": false
   },
   "outputs": [
    {
     "name": "stdout",
     "output_type": "stream",
     "text": [
      "arange([start,] stop[, step,], dtype=None)\n",
      "\n",
      "    Return evenly spaced values within a given interval.\n",
      "\n",
      "    Values are generated within the half-open interval ``[start, stop)``\n",
      "    (in other words, the interval including `start` but excluding `stop`).\n",
      "    For integer arguments the function is equivalent to the Python built-in\n",
      "    `range <http://docs.python.org/lib/built-in-funcs.html>`_ function,\n",
      "    but returns an ndarray rather than a list.\n",
      "\n",
      "    When using a non-integer step, such as 0.1, the results will often not\n",
      "    be consistent.  It is better to use ``linspace`` for these cases.\n",
      "\n",
      "    Parameters\n",
      "    ----------\n",
      "    start : number, optional\n",
      "        Start of interval.  The interval includes this value.  The default\n",
      "        start value is 0.\n",
      "    stop : number\n",
      "        End of interval.  The interval does not include this value, except\n",
      "        in some cases where `step` is not an integer and floating point\n",
      "        round-off affects the length of `out`.\n",
      "    step : number, optional\n",
      "        Spacing between values.  For any output `out`, this is the distance\n",
      "        between two adjacent values, ``out[i+1] - out[i]``.  The default\n",
      "        step size is 1.  If `step` is specified, `start` must also be given.\n",
      "    dtype : dtype\n",
      "        The type of the output array.  If `dtype` is not given, infer the data\n",
      "        type from the other input arguments.\n",
      "\n",
      "    Returns\n",
      "    -------\n",
      "    arange : ndarray\n",
      "        Array of evenly spaced values.\n",
      "\n",
      "        For floating point arguments, the length of the result is\n",
      "        ``ceil((stop - start)/step)``.  Because of floating point overflow,\n",
      "        this rule may result in the last element of `out` being greater\n",
      "        than `stop`.\n",
      "\n",
      "    See Also\n",
      "    --------\n",
      "    linspace : Evenly spaced numbers with careful handling of endpoints.\n",
      "    ogrid: Arrays of evenly spaced numbers in N-dimensions.\n",
      "    mgrid: Grid-shaped arrays of evenly spaced numbers in N-dimensions.\n",
      "\n",
      "    Examples\n",
      "    --------\n",
      "    >>> np.arange(3)\n",
      "    array([0, 1, 2])\n",
      "    >>> np.arange(3.0)\n",
      "    array([ 0.,  1.,  2.])\n",
      "    >>> np.arange(3,7)\n",
      "    array([3, 4, 5, 6])\n",
      "    >>> np.arange(3,7,2)\n",
      "    array([3, 5])\n"
     ]
    }
   ],
   "source": [
    "print(np.arange.__doc__)\n"
   ]
  },
  {
   "cell_type": "code",
   "execution_count": 37,
   "metadata": {
    "collapsed": false
   },
   "outputs": [
    {
     "name": "stdout",
     "output_type": "stream",
     "text": [
      "[ 4  9 16]\n",
      "0.00640328752335\n",
      "0.00640328752335\n"
     ]
    },
    {
     "data": {
      "text/plain": [
       "[2, 3, 4, 1, 2, 3]"
      ]
     },
     "execution_count": 37,
     "metadata": {},
     "output_type": "execute_result"
    }
   ],
   "source": [
    "a = np.arange(2,5)\n",
    "print(a**2)\n",
    "print(np.sum(a**2)**-1.5)\n",
    "print((a[0]*a[0] + a[1]*a[1] + a[2]*a[2]) ** -1.5)\n",
    "a.tolist() + [1,2,3]"
   ]
  }
 ],
 "metadata": {
  "anaconda-cloud": {},
  "kernelspec": {
   "display_name": "Python [conda root]",
   "language": "python",
   "name": "conda-root-py"
  },
  "language_info": {
   "codemirror_mode": {
    "name": "ipython",
    "version": 3
   },
   "file_extension": ".py",
   "mimetype": "text/x-python",
   "name": "python",
   "nbconvert_exporter": "python",
   "pygments_lexer": "ipython3",
   "version": "3.5.2"
  }
 },
 "nbformat": 4,
 "nbformat_minor": 1
}
