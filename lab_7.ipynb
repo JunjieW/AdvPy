{
 "cells": [
  {
   "cell_type": "markdown",
   "metadata": {},
   "source": [
    "# DS-GA-3001 Advanced Python for Data Science\n",
    "## Lab 7 – Introduction to Cython\n",
    "\n",
    "Based on 2016 lecture for this class, prepared by Greg Watson and revised by Maria Elena Villalobos.\n",
    "Most of the content was extracted from the official [Cython documentation and tutorials](http://cython.readthedocs.io/en/latest/src/tutorial/cython_tutorial.html). "
   ]
  },
  {
   "cell_type": "markdown",
   "metadata": {
    "nbgrader": {
     "grade": false,
     "solution": false
    }
   },
   "source": [
    "Before you turn this problem in, make sure you **restart the kernel** (in the menubar, select Kernel$\\rightarrow$Restart). You can then run the cells **in order**, during the class.\n",
    "\n",
    "Any textual answers that need to be provided will be marked with \"YOUR ANSWER HERE\". Replace this text with your answer to the question.\n",
    "\n",
    "Any code answers that need to be provided will be marked with:\n",
    "\n",
    "```\n",
    "# YOUR CODE HERE\n",
    "raise NotImplementedError()\n",
    "```\n",
    "\n",
    "Replace all this code with your answer to the question. If you do not answer the question, the `NotImplementedError` exception will be raised.\n",
    "\n",
    "In many cases, code answers will also have some associated test code. You should execute the tests after you have entered your code in order to ensure that your answer is correct. You should not proceed to the next question until your answer is correct."
   ]
  },
  {
   "cell_type": "markdown",
   "metadata": {
    "nbgrader": {
     "grade": false,
     "solution": false
    }
   },
   "source": [
    "---"
   ]
  },
  {
   "cell_type": "markdown",
   "metadata": {},
   "source": [
    "# An Introduction to Cython"
   ]
  },
  {
   "cell_type": "markdown",
   "metadata": {},
   "source": [
    "The fundamental nature of Cython can be summed up as follows: **Cython is Python with C data types**.\n",
    "\n",
    "## Who uses Cython?\n",
    "\n",
    "Cython is particularly popular among scientific users of Python, where it has \"the perfect audience\" according to Python developer Guido van Rossum.[17] Of particular note:\n",
    "\n",
    "- The free software SageMath computer algebra system depends on Cython, both for performance and to interface with other libraries.\n",
    "- Significant parts of the scientific computing libraries **SciPy, pandas and scikit-learn** are written in Cython.\n",
    "- Some high traffic websites such as **Quora** use Cython.\n",
    "Cython's domain is not limited to just numerical computing. For example, the lxml XML toolkit is written mostly in Cython, and like its predecessor Pyrex, Cython is used to provide Python bindings for many C and C++ libraries like the messaging library ZeroMQ. Cython can also be used to develop parallel programs for multi-core processor machines; this feature makes use of the OpenMP library. (from [Wikipedia](https://en.wikipedia.org/wiki/Cython))\n",
    "\n",
    "## How does it work?\n",
    "Cython is a modification of Python that adds C data types. Almost any piece of Python code is also valid Cython code (with a few [limitations](http://docs.cython.org/src/userguide/limitations.html#cython-limitations).) Cython then converts the (modified) Python code into C code which makes equivalent calls to the Python/C API. This C code is then compiled into a shared library which can be imported into Python.\n",
    "\n",
    "In Cython, function parameters and variables can be declared to have C data types, and code which manipulates Python values and C values can be freely intermixed. Cython takes care of converting from C to Python data types automatically wherever possible. Reference count maintenance and error checking of Python operations is also automatic, and the full power of Python’s exception handling facilities, including the try-except and try-finally statements, is still available.\n",
    "\n",
    "## Benefits of Cython\n",
    "There are two main benefits of Cython:\n",
    "\n",
    "1. **Speed.** How much performance improves depends very much on the program. Typical Python numerical programs would tend to gain very little as most time is spent in lower-level C anyway. However, for-loop-style programs can improve by many orders of magnitude.\n",
    "2. **Easy calling into C code.** One of Cython’s purposes is to allow easy wrapping of C libraries. When writing code in Cython you can call into C code as easily as into Python code."
   ]
  },
  {
   "cell_type": "markdown",
   "metadata": {},
   "source": [
    "The following sections provide a very brief introduction to Cython. See [Cython Language Basics](http://docs.cython.org/src/userguide/language_basics.html#language-basics) for a more detailed description of the Cython language."
   ]
  },
  {
   "cell_type": "markdown",
   "metadata": {},
   "source": [
    "## Cython Syntax"
   ]
  },
  {
   "cell_type": "markdown",
   "metadata": {},
   "source": [
    "### Basic C Types"
   ]
  },
  {
   "cell_type": "markdown",
   "metadata": {},
   "source": [
    "Cython supports most C data types. The following table lists the most common types."
   ]
  },
  {
   "cell_type": "markdown",
   "metadata": {},
   "source": [
    "<p>\n",
    "<table align=\"left\">\n",
    "<tr><td align=\"center\"><b>Type</b></td><td align=\"center\"><b>Description</b></td></tr>\n",
    "<tr><td>`char`</td><td>8 bit integer</td></tr>\n",
    "<tr><td>`short`</td><td>16 bit integer</td></tr>\n",
    "<tr><td>`int`</td><td>32 bit integer</td></tr>\n",
    "<tr><td>`long`</td><td>64 bit integer</td></tr>\n",
    "<tr><td>`long long`</td><td>64 bit integer</td></tr>\n",
    "<tr><td>`float`</td><td>32 bit floating point</td></tr>\n",
    "<tr><td>`double`</td><td>64 bit floating point</td></tr>\n",
    "<tr><td>`long double`</td><td>80 bit floating point</td></tr>\n",
    "<tr><td>`float a[10][30]`</td><td>2-dimensional array</td></tr>\n",
    "<tr><td>`char *s`</td><td>pointer</td></tr>\n",
    "<tr><td>`struct foo`</td><td>structure</td></tr>\n",
    "<tr><td>`union bar`</td><td>union</td></tr>\n",
    "<tr><td>`enum type`</td><td>enumeration</td></tr>\n",
    "</table>\n",
    "</p>"
   ]
  },
  {
   "cell_type": "markdown",
   "metadata": {},
   "source": [
    "### Variable and Type Definitions"
   ]
  },
  {
   "cell_type": "markdown",
   "metadata": {},
   "source": [
    "The `cdef` statement is used to declare C variables, either local or module-level:"
   ]
  },
  {
   "cell_type": "markdown",
   "metadata": {},
   "source": [
    "```cython\n",
    "cdef int i, j, k\n",
    "cdef float f, g[42], *h\n",
    "```"
   ]
  },
  {
   "cell_type": "markdown",
   "metadata": {},
   "source": [
    "In C, types can be given names using the `typedef` statement. The equivalent in Cython is `ctypedef`:"
   ]
  },
  {
   "cell_type": "markdown",
   "metadata": {},
   "source": [
    "```cython\n",
    "ctypedef int * intPtr\n",
    "```"
   ]
  },
  {
   "cell_type": "markdown",
   "metadata": {},
   "source": [
    "Cython also supports C `struct`, `union`, or `enum` types:"
   ]
  },
  {
   "cell_type": "markdown",
   "metadata": {},
   "source": [
    "<p>\n",
    "<table align=\"left\">\n",
    "<tr><td align=\"center\"><b>C code</b></td><td align=\"center\"><b>Cython code</b></td></tr>\n",
    "<tr><td>\n",
    "```\n",
    "struct Grail {\n",
    "    int age;\n",
    "    float volume;\n",
    "}\n",
    "```\n",
    "</td><td>\n",
    "```cython\n",
    "cdef struct Grail:\n",
    "    int age\n",
    "    float volume\n",
    "```\n",
    "</td></tr>\n",
    "<tr><td>\n",
    "```\n",
    "union Food {\n",
    "    char *spam;\n",
    "    float *eggs;\n",
    "}\n",
    "```\n",
    "</td><td>\n",
    "```\n",
    "cdef union Food:\n",
    "    char *spam\n",
    "    float *eggs\n",
    "```\n",
    "</td></tr>\n",
    "<tr><td>\n",
    "```\n",
    "enum CheeseType {\n",
    "    cheddar, edam,\n",
    "    camembert\n",
    "}\n",
    "```\n",
    "</td><td>\n",
    "```\n",
    "cdef enum CheeseType:\n",
    "    cheddar, edam,\n",
    "    camembert\n",
    "```\n",
    "</td></tr>\n",
    "<tr><td>\n",
    "```\n",
    "emum CheeseState {\n",
    "    hard = 1,\n",
    "    soft = 2,\n",
    "    runny = 3\n",
    "}\n",
    "```\n",
    "</td><td>\n",
    "```\n",
    "cdef enum CheeseState:\n",
    "    hard = 1\n",
    "    soft = 2\n",
    "    runny = 3\n",
    "```\n",
    "</td></tr>\n",
    "</table>\n",
    "</p>\n"
   ]
  },
  {
   "cell_type": "markdown",
   "metadata": {},
   "source": [
    "### Functions"
   ]
  },
  {
   "cell_type": "markdown",
   "metadata": {},
   "source": [
    "There are two kinds of function definition in Cython:\n",
    "\n",
    "* **Python functions** are defined using the `def` statement, as in Python. They take Python objects as parameters and return Python objects.\n",
    "\n",
    "* **C functions** are defined using the new `cdef` statement. They take either Python objects or C values as parameters, and can return either Python objects or C values.\n",
    "\n",
    "Within a Cython module, Python functions and C functions can call each other freely, but only Python functions can be called from outside the module by interpreted Python code. So, any functions that you want to “export” from your Cython module must be declared as Python functions using `def`. There is also a hybrid function, called `cpdef`. A `cpdef` can be called from anywhere, but uses the faster C calling conventions when being called from other Cython code. A `cpdef` can also be overridden by a Python method on a subclass or an instance attribute, even when called from Cython. If this happens, most performance gains are of course lost and even if it does not, there is a tiny overhead in calling a `cpdef` method from Cython compared to calling a `cdef` method.\n",
    "\n",
    "Parameters of either type of function can be declared to have C data types, using normal C declaration syntax. For example:"
   ]
  },
  {
   "cell_type": "markdown",
   "metadata": {},
   "source": [
    "```cython\n",
    "def spam(int i, char *s):\n",
    "    ...\n",
    "\n",
    "cdef int eggs(unsigned long l, float f):\n",
    "    ...\n",
    "```"
   ]
  },
  {
   "cell_type": "markdown",
   "metadata": {},
   "source": [
    "Automatic conversion is currently only possible for numeric types, string types and structs (composed recursively of any of these types); attempting to use any other type for the parameter of a Python function will result in a compile-time error. Care must be taken with strings to ensure a reference if the pointer is to be used after the call. Structs can be obtained from Python mappings, and again care must be taken with string attributes if they are to be used after the function returns.\n",
    "\n",
    "C functions, on the other hand, can have parameters of any type, since they’re passed in directly using a normal C function call.\n",
    "\n",
    "Functions declared using `cdef`, like Python functions, will return a False value when execution leaves the function body without an explicit return value. This is in contrast to C/C++, which leaves the return value undefined."
   ]
  },
  {
   "cell_type": "markdown",
   "metadata": {},
   "source": [
    "### Automatic Type Conversions"
   ]
  },
  {
   "cell_type": "markdown",
   "metadata": {},
   "source": [
    "In most situations, automatic conversions will be performed for the basic numeric and string types when a Python object is used in a context requiring a C value, or vice versa. The following table summarises the conversion possibilities.\n",
    "\n",
    "<table align=\"left\">\n",
    "<tr><td><b>C types</b></td><td><b>From Python types</b></td><td><b>To Python types</b></td></tr>\n",
    "<tr><td>`char, short, int, long`</td><td>`int, long`</td><td>`int`</td></tr>\n",
    "<tr><td>`int, long, long long`</td><td>`int, long`</td><td>`long`</td></tr>\n",
    "<tr><td>`float, double, long double`</td><td>`int, long, float`</td><td>`float`</td></tr>\n",
    "<tr><td>`char*`</td><td>`str`</td><td>`str`</td></tr>\n",
    "<tr><td>`struct, union`</td><td></td><td>`dict`</td></tr>\n",
    "</table>"
   ]
  },
  {
   "cell_type": "markdown",
   "metadata": {},
   "source": [
    "### Statements and Expressions"
   ]
  },
  {
   "cell_type": "markdown",
   "metadata": {},
   "source": [
    "Control structures and expressions follow Python syntax for the most part. When applied to Python objects, they have the same semantics as in Python (unless otherwise noted). Most of the Python operators can also be applied to C values, with the obvious semantics.\n",
    "\n",
    "If Python objects and C values are mixed in an expression, conversions are performed automatically between Python objects and C numeric or string types."
   ]
  },
  {
   "cell_type": "markdown",
   "metadata": {},
   "source": [
    "## Executing Cython Code"
   ]
  },
  {
   "cell_type": "markdown",
   "metadata": {},
   "source": [
    "### Manual Compiliation"
   ]
  },
  {
   "cell_type": "markdown",
   "metadata": {},
   "source": [
    "Cython code is normally saved in files ending with `.pyx` (the `x` indicates it is different from standard Python code.) A Cython file must be translated to C using the command:"
   ]
  },
  {
   "cell_type": "markdown",
   "metadata": {},
   "source": [
    "```\n",
    "cython my_module.pyx\n",
    "```"
   ]
  },
  {
   "cell_type": "markdown",
   "metadata": {},
   "source": [
    "This will create a file called `my_module.c` which is the C source for a Python extension module. A useful additional switch is -a which will generate an HTML document (`my_module.html`) that shows which Cython code translates to which C code line by line."
   ]
  },
  {
   "cell_type": "markdown",
   "metadata": {},
   "source": [
    "Once the C file has been generated, it must be compiled into a shared library. This may vary according to the operating system, but for Linux it would be something like:"
   ]
  },
  {
   "cell_type": "markdown",
   "metadata": {},
   "source": [
    "```\n",
    "gcc -shared -pthread -fPIC -fwrapv -O2 -Wall -fno-strict-aliasing -I/usr/include/python2.7 \\\n",
    "        -o my_module.so my_module.c\n",
    "```"
   ]
  },
  {
   "cell_type": "markdown",
   "metadata": {},
   "source": [
    "This command will create a library called `my_module.so`. This library can be treated just like any Python module and imported using the normal import statement:"
   ]
  },
  {
   "cell_type": "markdown",
   "metadata": {},
   "source": [
    "```\n",
    "import my_module\n",
    "```"
   ]
  },
  {
   "cell_type": "markdown",
   "metadata": {},
   "source": [
    "### A Simpler Way"
   ]
  },
  {
   "cell_type": "markdown",
   "metadata": {},
   "source": [
    "Cython can be used conveniently and interactively from a web browser through the IPython notebook.\n",
    "\n",
    "To enable support for Cython compilation, install Cython and load the Cython extension from within IPython:"
   ]
  },
  {
   "cell_type": "code",
   "execution_count": 1,
   "metadata": {
    "collapsed": false
   },
   "outputs": [],
   "source": [
    "%load_ext Cython"
   ]
  },
  {
   "cell_type": "markdown",
   "metadata": {},
   "source": [
    "Cython code can now be compiled using the `%%cython` cell magic command:"
   ]
  },
  {
   "cell_type": "code",
   "execution_count": null,
   "metadata": {
    "collapsed": false
   },
   "outputs": [],
   "source": [
    "%%cython\n",
    "\n",
    "def cfunc(int n):\n",
    "    cdef int a = 0\n",
    "    for i in range(n):\n",
    "        a += i\n",
    "    return a"
   ]
  },
  {
   "cell_type": "code",
   "execution_count": null,
   "metadata": {
    "collapsed": false
   },
   "outputs": [],
   "source": [
    "print(cfunc(10))"
   ]
  },
  {
   "cell_type": "markdown",
   "metadata": {},
   "source": [
    "It is also possible to see Cython's code analysis using the `--annotate` option."
   ]
  },
  {
   "cell_type": "code",
   "execution_count": null,
   "metadata": {
    "collapsed": false
   },
   "outputs": [],
   "source": [
    "%%cython --annotate\n",
    "\n",
    "def cfunc(int n):\n",
    "    cdef int a = 0\n",
    "    for i in range(n):\n",
    "        a += i\n",
    "    return a"
   ]
  },
  {
   "cell_type": "markdown",
   "metadata": {},
   "source": [
    "## A Simple Example"
   ]
  },
  {
   "cell_type": "markdown",
   "metadata": {},
   "source": [
    "The following pure Python example generates a list of `kmax` prime numbers."
   ]
  },
  {
   "cell_type": "code",
   "execution_count": 1,
   "metadata": {
    "collapsed": true
   },
   "outputs": [],
   "source": [
    "def primes(kmax):\n",
    "    p = [None] * 1000 # Initialize the list to the max number of elements\n",
    "    if kmax > 1000:\n",
    "        kmax = 1000\n",
    "    result = []\n",
    "    k = 0\n",
    "    n = 2\n",
    "    while k < kmax:\n",
    "        i = 0\n",
    "        while i < k and n % p[i] != 0:\n",
    "            i = i + 1\n",
    "        if i == k:\n",
    "            p[k] = n\n",
    "            k = k + 1\n",
    "            result.append(n)\n",
    "        n = n + 1\n",
    "    return result"
   ]
  },
  {
   "cell_type": "markdown",
   "metadata": {},
   "source": [
    "Let's time it to see how long it takes to generate 1000 primes."
   ]
  },
  {
   "cell_type": "code",
   "execution_count": 2,
   "metadata": {
    "collapsed": false
   },
   "outputs": [
    {
     "name": "stdout",
     "output_type": "stream",
     "text": [
      "1 loop, best of 3: 445 ms per loop\n"
     ]
    }
   ],
   "source": [
    "%timeit primes(1000)"
   ]
  },
  {
   "cell_type": "markdown",
   "metadata": {},
   "source": [
    "This code can be run without any changes in Cython. The simplest way to do this is by using the `%%cython` cell magic:"
   ]
  },
  {
   "cell_type": "code",
   "execution_count": 12,
   "metadata": {
    "collapsed": false
   },
   "outputs": [],
   "source": [
    "%%cython\n",
    "def primes(kmax):\n",
    "    p = [None] * 1000 # Initialize the list to the max number of elements\n",
    "    if kmax > 1000:\n",
    "        kmax = 1000\n",
    "    result = []\n",
    "    k = 0\n",
    "    n = 2\n",
    "    while k < kmax:\n",
    "        i = 0\n",
    "        while i < k and n % p[i] != 0:\n",
    "            i = i + 1\n",
    "        if i == k:\n",
    "            p[k] = n\n",
    "            k = k + 1\n",
    "            result.append(n)\n",
    "        n = n + 1\n",
    "    return result"
   ]
  },
  {
   "cell_type": "markdown",
   "metadata": {},
   "source": [
    "Now let's see if there was any improvement."
   ]
  },
  {
   "cell_type": "code",
   "execution_count": 13,
   "metadata": {
    "collapsed": false
   },
   "outputs": [
    {
     "name": "stdout",
     "output_type": "stream",
     "text": [
      "1 loop, best of 3: 322 ms per loop\n"
     ]
    }
   ],
   "source": [
    "%timeit primes(1000)"
   ]
  },
  {
   "cell_type": "markdown",
   "metadata": {},
   "source": [
    "As you can see, this improved the performance of the pure Python implementation. But can we do better? Let's try adding some types using the Cython `cdef` statement."
   ]
  },
  {
   "cell_type": "markdown",
   "metadata": {},
   "source": [
    "<div class=\"alert alert-success\">\n",
    "Make a copy of the Cython version of primes from the cell above, then declare the `i`, `k`, and `n` variables as type `int`. Replace the `p = [None] * 1000` line with the declaration `cdef int p[1000]`.\n",
    "</div>"
   ]
  },
  {
   "cell_type": "code",
   "execution_count": 17,
   "metadata": {
    "collapsed": false,
    "deletable": false,
    "nbgrader": {
     "checksum": "cb97cbdb60f2c86e6c7a4c23ae55b839",
     "grade": true,
     "grade_id": "cython_1",
     "locked": false,
     "points": 1,
     "solution": true
    }
   },
   "outputs": [],
   "source": [
    "%%cython\n",
    "def primes(int kmax):\n",
    "    cdef int p[1000]# Initialize the list to the max number of elements\n",
    "    if kmax > 1000:\n",
    "        kmax = 1000\n",
    "    cdef int result[1000];\n",
    "    cdef int k = 0\n",
    "    cdef int n = 2\n",
    "    cdef int i = 0\n",
    "    while k < kmax:\n",
    "        i = 0\n",
    "        while i < k and n % p[i] != 0:\n",
    "            i = i + 1\n",
    "        if i == k:\n",
    "            p[k] = n\n",
    "            k = k + 1\n",
    "            result.append(n)\n",
    "        n = n + 1\n",
    "    return result"
   ]
  },
  {
   "cell_type": "code",
   "execution_count": 15,
   "metadata": {
    "collapsed": false
   },
   "outputs": [
    {
     "name": "stdout",
     "output_type": "stream",
     "text": [
      "10 loops, best of 3: 35.9 ms per loop\n"
     ]
    }
   ],
   "source": [
    "%timeit primes(1000)"
   ]
  },
  {
   "cell_type": "markdown",
   "metadata": {},
   "source": [
    "Wow, that made a big difference!"
   ]
  }
 ],
 "metadata": {
  "anaconda-cloud": {},
  "kernelspec": {
   "display_name": "Python [default]",
   "language": "python",
   "name": "python3"
  },
  "language_info": {
   "codemirror_mode": {
    "name": "ipython",
    "version": 3
   },
   "file_extension": ".py",
   "mimetype": "text/x-python",
   "name": "python",
   "nbconvert_exporter": "python",
   "pygments_lexer": "ipython3",
   "version": "3.5.2"
  }
 },
 "nbformat": 4,
 "nbformat_minor": 0
}
