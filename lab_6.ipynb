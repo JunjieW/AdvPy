{
 "cells": [
  {
   "cell_type": "code",
   "execution_count": 9,
   "metadata": {
    "collapsed": false
   },
   "outputs": [
    {
     "name": "stdout",
     "output_type": "stream",
     "text": [
      "The line_profiler extension is already loaded. To reload it, use:\n",
      "  %reload_ext line_profiler\n"
     ]
    }
   ],
   "source": [
    "import numpy as np\n",
    "import random, string\n",
    "\n",
    "%load_ext line_profiler"
   ]
  },
  {
   "cell_type": "code",
   "execution_count": 10,
   "metadata": {
    "collapsed": true
   },
   "outputs": [],
   "source": [
    "def randomword(length):\n",
    "    '''Code from: http://stackoverflow.com/questions/2030053/random-strings-in-python'''\n",
    "    return ''.join(random.choice(string.ascii_lowercase) for i in range(length))"
   ]
  },
  {
   "cell_type": "code",
   "execution_count": 11,
   "metadata": {
    "collapsed": false
   },
   "outputs": [],
   "source": [
    "def generate_tests():\n",
    "    random_tests = []\n",
    "    for i in range(26):\n",
    "        test = ['{}$'.format(randomword(i)) for j in range(np.random.randint(1000, 2000))]\n",
    "        random_tests.append(test)\n",
    "    return random_tests"
   ]
  },
  {
   "cell_type": "markdown",
   "metadata": {},
   "source": [
    "## Evaluate the running time of generate_tests using cProfile"
   ]
  },
  {
   "cell_type": "code",
   "execution_count": 15,
   "metadata": {
    "collapsed": false
   },
   "outputs": [],
   "source": [
    "random_tests = generate_tests()"
   ]
  },
  {
   "cell_type": "code",
   "execution_count": 16,
   "metadata": {
    "collapsed": true
   },
   "outputs": [],
   "source": [
    "def f(random_tests):\n",
    "    def g(random_tests):\n",
    "        unique_tests = set([t for test in random_tests for t in test])\n",
    "        # Normally we would have to do something here with unique_tests\n",
    "    return g\n",
    "\n",
    "def f(random_tests):\n",
    "    def g(random_tests):\n",
    "        unique_tests = set([t for test in random_tests for t in test])\n",
    "        # Normally we would have to do something here with unique_tests\n",
    "    return g"
   ]
  },
  {
   "cell_type": "code",
   "execution_count": 17,
   "metadata": {
    "collapsed": false
   },
   "outputs": [],
   "source": [
    "def run_many():\n",
    "    for i in range(np.random.randint(1000, 2000)):\n",
    "        f(random_tests)(random_tests)"
   ]
  },
  {
   "cell_type": "markdown",
   "metadata": {},
   "source": [
    "## Evaluate the running time of the f and g functions using cProfile "
   ]
  },
  {
   "cell_type": "code",
   "execution_count": 18,
   "metadata": {
    "collapsed": false
   },
   "outputs": [
    {
     "name": "stdout",
     "output_type": "stream",
     "text": [
      " "
     ]
    }
   ],
   "source": [
    "%prun run_many()"
   ]
  },
  {
   "cell_type": "markdown",
   "metadata": {},
   "source": [
    "## Now do the same profiling line by line\n",
    "What is going on would be more obvious this way."
   ]
  },
  {
   "cell_type": "code",
   "execution_count": 19,
   "metadata": {
    "collapsed": false
   },
   "outputs": [],
   "source": [
    "%lprun run_many()"
   ]
  },
  {
   "cell_type": "markdown",
   "metadata": {},
   "source": [
    "## GUI interfaces for cProfile\n",
    "There are some like [PyVmMonitor](http://www.pyvmmonitor.com/index.html) install it, export the .py version of this notebook and test some of the features.\n",
    "If you prefer, you can make use of the PyDev or PyCharm integration.\n",
    "\n",
    "## What hotspots were you able to identify with this tool?"
   ]
  },
  {
   "cell_type": "markdown",
   "metadata": {},
   "source": [
    "Your answer here"
   ]
  },
  {
   "cell_type": "markdown",
   "metadata": {},
   "source": [
    "Assuming that you need to maintain the fact that you define function g inside f\n",
    "##  What is happening here?\n",
    "##  How would you modify the program to make it run faster?\n",
    "Try your updated version and see if it helped improve the running time"
   ]
  },
  {
   "cell_type": "code",
   "execution_count": 9,
   "metadata": {
    "collapsed": true
   },
   "outputs": [],
   "source": [
    "# Your answer here"
   ]
  },
  {
   "cell_type": "code",
   "execution_count": 10,
   "metadata": {
    "collapsed": false
   },
   "outputs": [
    {
     "data": {
      "text/plain": [
       "'pksr$'"
      ]
     },
     "execution_count": 10,
     "metadata": {},
     "output_type": "execute_result"
    }
   ],
   "source": [
    "'{}$'.format(randomword(4))"
   ]
  },
  {
   "cell_type": "code",
   "execution_count": null,
   "metadata": {
    "collapsed": true
   },
   "outputs": [],
   "source": []
  }
 ],
 "metadata": {
  "anaconda-cloud": {},
  "kernelspec": {
   "display_name": "Python [conda root]",
   "language": "python",
   "name": "conda-root-py"
  },
  "language_info": {
   "codemirror_mode": {
    "name": "ipython",
    "version": 3
   },
   "file_extension": ".py",
   "mimetype": "text/x-python",
   "name": "python",
   "nbconvert_exporter": "python",
   "pygments_lexer": "ipython3",
   "version": "3.5.2"
  }
 },
 "nbformat": 4,
 "nbformat_minor": 2
}
