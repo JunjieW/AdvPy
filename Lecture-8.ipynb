{
 "cells": [
  {
   "cell_type": "code",
   "execution_count": 1,
   "metadata": {
    "collapsed": true
   },
   "outputs": [],
   "source": [
    "# https://nyu-cds.github.io/python-numba/\n"
   ]
  },
  {
   "cell_type": "code",
   "execution_count": 3,
   "metadata": {
    "collapsed": true
   },
   "outputs": [],
   "source": [
    "def bubblesort(X):\n",
    "    N = len(X)\n",
    "    for end in range(N, 1, -1):\n",
    "        for i in range(end - 1):\n",
    "            cur = X[i]\n",
    "            if cur > X[i + 1]:\n",
    "                tmp = X[i]\n",
    "                X[i] = X[i + 1]\n",
    "                X[i + 1] = tmp"
   ]
  },
  {
   "cell_type": "code",
   "execution_count": 8,
   "metadata": {
    "collapsed": false
   },
   "outputs": [
    {
     "name": "stdout",
     "output_type": "stream",
     "text": [
      "True\n"
     ]
    }
   ],
   "source": [
    "import numpy as np\n",
    "\n",
    "original = np.arange(0.0, 10.0, 0.01, dtype='f4')\n",
    "shuffled = original.copy()\n",
    "np.random.shuffle(shuffled)\n",
    "\n",
    "sorted = shuffled.copy()\n",
    "bubblesort(sorted)\n",
    "print(np.array_equal(sorted, original))\n",
    "\n"
   ]
  },
  {
   "cell_type": "code",
   "execution_count": 9,
   "metadata": {
    "collapsed": false
   },
   "outputs": [
    {
     "name": "stdout",
     "output_type": "stream",
     "text": [
      "The slowest run took 8.52 times longer than the fastest. This could mean that an intermediate result is being cached.\n",
      "10000 loops, best of 3: 77.9 µs per loop\n"
     ]
    }
   ],
   "source": [
    "sorted[:] = shuffled[:]\n",
    "%timeit np.sort(sorted)"
   ]
  },
  {
   "cell_type": "code",
   "execution_count": 10,
   "metadata": {
    "collapsed": false
   },
   "outputs": [
    {
     "name": "stdout",
     "output_type": "stream",
     "text": [
      "1 loop, best of 3: 378 ms per loop\n"
     ]
    }
   ],
   "source": [
    "sorted[:] = shuffled[:]\n",
    "%timeit bubblesort(sorted)"
   ]
  },
  {
   "cell_type": "code",
   "execution_count": 38,
   "metadata": {
    "collapsed": false
   },
   "outputs": [],
   "source": [
    "from numba import jit\n",
    "@jit\n",
    "def bubblesort_jit(X):\n",
    "    N = len(X)\n",
    "    for end in range(N, 1, -1):\n",
    "        for i in range(end - 1):\n",
    "            cur = X[i]\n",
    "            if cur > X[i + 1]:\n",
    "                tmp = X[i]\n",
    "                X[i] = X[i + 1]\n",
    "                X[i + 1] = tmp\n",
    "\n",
    "from numba import void, float32\n",
    "@jit(void(float32[:]))\n",
    "def bubblesort_jit_typed(X):\n",
    "    N = len(X)\n",
    "    for end in range(N, 1, -1):\n",
    "        for i in range(end - 1):\n",
    "            cur = X[i]\n",
    "            if cur > X[i + 1]:\n",
    "                tmp = X[i]\n",
    "                X[i] = X[i + 1]\n",
    "                X[i + 1] = tmp\n",
    "                \n",
    "                \n",
    "from numba import void, float32\n",
    "# If we introduce an object who’s type cannot be inferred, \n",
    "# error will be raised if jit in no python mode\n",
    "@jit(\"void(float32[:])\", nopython=True)\n",
    "def bubblesort_jit_typed_mode(X):\n",
    "    N = len(X)\n",
    "    for end in range(N, 1, -1):\n",
    "        for i in range(end - 1):\n",
    "            cur = X[i]\n",
    "            if cur > X[i + 1]:\n",
    "                tmp = X[i]\n",
    "                X[i] = X[i + 1]\n",
    "                X[i + 1] = tmp"
   ]
  },
  {
   "cell_type": "code",
   "execution_count": 33,
   "metadata": {
    "collapsed": false
   },
   "outputs": [
    {
     "name": "stdout",
     "output_type": "stream",
     "text": [
      "The slowest run took 193.56 times longer than the fastest. This could mean that an intermediate result is being cached.\n",
      "1 loop, best of 3: 2.21 ms per loop\n"
     ]
    }
   ],
   "source": [
    "sorted[:] = shuffled[:]\n",
    "%timeit bubblesort_jit(sorted)"
   ]
  },
  {
   "cell_type": "code",
   "execution_count": 35,
   "metadata": {
    "collapsed": false
   },
   "outputs": [
    {
     "name": "stdout",
     "output_type": "stream",
     "text": [
      "100 loops, best of 3: 1.65 ms per loop\n"
     ]
    }
   ],
   "source": [
    "sorted[:] = shuffled[:]\n",
    "%timeit bubblesort_jit_typed(sorted)"
   ]
  },
  {
   "cell_type": "code",
   "execution_count": 39,
   "metadata": {
    "collapsed": false
   },
   "outputs": [
    {
     "name": "stdout",
     "output_type": "stream",
     "text": [
      "100 loops, best of 3: 1.65 ms per loop\n"
     ]
    }
   ],
   "source": [
    "sorted[:] = shuffled[:]\n",
    "%timeit bubblesort_jit_typed_mode(sorted)"
   ]
  },
  {
   "cell_type": "code",
   "execution_count": null,
   "metadata": {
    "collapsed": true
   },
   "outputs": [],
   "source": []
  },
  {
   "cell_type": "code",
   "execution_count": 30,
   "metadata": {
    "collapsed": false
   },
   "outputs": [],
   "source": [
    "from numba import jit, int32, float64\n",
    "\n",
    "def f(x, y):\n",
    "    # A somewhat trivial example\n",
    "    return (x + y) / 3.14\n",
    "\n",
    "@jit(float64(int32, int32))\n",
    "def f_jit(x, y):\n",
    "    # A somewhat trivial example\n",
    "    return (x + y) / 3.14\n",
    "\n",
    "from numba import f8, i4\n",
    "\n",
    "@jit(f8(i4, i4))\n",
    "def f_jit_shorthand(x, y):\n",
    "    return (x + y) / 3.14"
   ]
  },
  {
   "cell_type": "code",
   "execution_count": 27,
   "metadata": {
    "collapsed": false
   },
   "outputs": [
    {
     "name": "stdout",
     "output_type": "stream",
     "text": [
      "The slowest run took 12.91 times longer than the fastest. This could mean that an intermediate result is being cached.\n",
      "1000000 loops, best of 3: 612 ns per loop\n",
      "The slowest run took 12.56 times longer than the fastest. This could mean that an intermediate result is being cached.\n",
      "1000000 loops, best of 3: 472 ns per loop\n"
     ]
    }
   ],
   "source": [
    "%timeit f(1,3)\n",
    "\n",
    "%timeit f(1,3)"
   ]
  }
 ],
 "metadata": {
  "anaconda-cloud": {},
  "kernelspec": {
   "display_name": "Python [conda root]",
   "language": "python",
   "name": "conda-root-py"
  },
  "language_info": {
   "codemirror_mode": {
    "name": "ipython",
    "version": 3
   },
   "file_extension": ".py",
   "mimetype": "text/x-python",
   "name": "python",
   "nbconvert_exporter": "python",
   "pygments_lexer": "ipython3",
   "version": "3.5.2"
  }
 },
 "nbformat": 4,
 "nbformat_minor": 1
}
