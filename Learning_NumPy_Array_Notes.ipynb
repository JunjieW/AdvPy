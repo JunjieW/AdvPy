{
 "cells": [
  {
   "cell_type": "code",
   "execution_count": 1,
   "metadata": {
    "collapsed": true
   },
   "outputs": [],
   "source": [
    "import numpy as np"
   ]
  },
  {
   "cell_type": "code",
   "execution_count": 2,
   "metadata": {
    "collapsed": false
   },
   "outputs": [
    {
     "name": "stdout",
     "output_type": "stream",
     "text": [
      "[0 0 0]\n"
     ]
    }
   ],
   "source": [
    "a = np.array([1,2,3])\n",
    "b = np.array([1,2,3])\n",
    "print(a-b)"
   ]
  },
  {
   "cell_type": "code",
   "execution_count": 3,
   "metadata": {
    "collapsed": false
   },
   "outputs": [],
   "source": [
    "PI = 3.14159265358979323\n",
    "SOLAR_MASS = 4 * PI * PI\n",
    "DAYS_PER_YEAR = 365.24"
   ]
  },
  {
   "cell_type": "code",
   "execution_count": 4,
   "metadata": {
    "collapsed": false
   },
   "outputs": [
    {
     "name": "stdout",
     "output_type": "stream",
     "text": [
      "[  0.          0.          0.          0.          0.          0.\n",
      "  39.4784176]\n"
     ]
    }
   ],
   "source": [
    "sun = np.array([0.0, 0.0, 0.0, 0.0, 0.0, 0.0, SOLAR_MASS])\n",
    "jupiter = np.array([4.84143144246472090e+00, -1.16032004402742839e+00, -1.03622044471123109e-01, \n",
    "                    1.66007664274403694e-03, 7.69901118419740425e-03, -6.90460016972063023e-05, \n",
    "                    9.54791938424326609e-04])\n",
    "saturn = np.array([8.34336671824457987e+00, 4.12479856412430479e+00, -4.03523417114321381e-01, \n",
    "                   -2.76742510726862411e-03, 4.99852801234917238e-03, 2.30417297573763929e-05, \n",
    "                   2.85885980666130812e-04])\n",
    "uranus = np.array([1.28943695621391310e+01, -1.51111514016986312e+01, -2.23307578892655734e-01, \n",
    "                   2.96460137564761618e-03, 2.37847173959480950e-03, -2.96589568540237556e-05, \n",
    "                   4.36624404335156298e-05]) \n",
    "neptune = np.array([1.53796971148509165e+01, -2.59193146099879641e+01, 1.79258772950371181e-01, \n",
    "                    2.68067772490389322e-03, 1.62824170038242295e-03, -9.51592254519715870e-05, \n",
    "                    5.15138902046611451e-05])       \n",
    "print(sun)"
   ]
  },
  {
   "cell_type": "code",
   "execution_count": 5,
   "metadata": {
    "collapsed": false
   },
   "outputs": [
    {
     "name": "stdout",
     "output_type": "stream",
     "text": [
      "[[  0.00000000e+00   0.00000000e+00   0.00000000e+00   0.00000000e+00\n",
      "    0.00000000e+00   0.00000000e+00   3.94784176e+01]\n",
      " [  4.84143144e+00  -1.16032004e+00  -1.03622044e-01   1.66007664e-03\n",
      "    7.69901118e-03  -6.90460017e-05   9.54791938e-04]\n",
      " [  8.34336672e+00   4.12479856e+00  -4.03523417e-01  -2.76742511e-03\n",
      "    4.99852801e-03   2.30417298e-05   2.85885981e-04]\n",
      " [  1.28943696e+01  -1.51111514e+01  -2.23307579e-01   2.96460138e-03\n",
      "    2.37847174e-03  -2.96589569e-05   4.36624404e-05]\n",
      " [  1.53796971e+01  -2.59193146e+01   1.79258773e-01   2.68067772e-03\n",
      "    1.62824170e-03  -9.51592255e-05   5.15138902e-05]]\n",
      "[[  0.00000000e+00   0.00000000e+00   0.00000000e+00   0.00000000e+00\n",
      "    0.00000000e+00   0.00000000e+00   3.94784176e+01]\n",
      " [  4.84143144e+00  -1.16032004e+00  -1.03622044e-01   6.06326393e-01\n",
      "    2.81198684e+00  -2.52183617e-02   9.54791938e-04]\n",
      " [  8.34336672e+00   4.12479856e+00  -4.03523417e-01  -1.01077435e+00\n",
      "    1.82566237e+00   8.41576138e-03   2.85885981e-04]\n",
      " [  1.28943696e+01  -1.51111514e+01  -2.23307579e-01   1.08279101e+00\n",
      "    8.68713018e-01  -1.08326374e-02   4.36624404e-05]\n",
      " [  1.53796971e+01  -2.59193146e+01   1.79258773e-01   9.79090732e-01\n",
      "    5.94698999e-01  -3.47559555e-02   5.15138902e-05]]\n",
      "[[  0.00000000e+00   0.00000000e+00   0.00000000e+00   0.00000000e+00\n",
      "    0.00000000e+00   0.00000000e+00   3.94784176e+01]\n",
      " [  4.84143144e+00  -1.16032004e+00  -1.03622044e-01   6.06326393e-01\n",
      "    2.81198684e+00  -2.52183617e-02   3.76936749e-02]\n",
      " [  8.34336672e+00   4.12479856e+00  -4.03523417e-01  -1.01077435e+00\n",
      "    1.82566237e+00   8.41576138e-03   1.12863261e-02]\n",
      " [  1.28943696e+01  -1.51111514e+01  -2.23307579e-01   1.08279101e+00\n",
      "    8.68713018e-01  -1.08326374e-02   1.72372406e-03]\n",
      " [  1.53796971e+01  -2.59193146e+01   1.79258773e-01   9.79090732e-01\n",
      "    5.94698999e-01  -3.47559555e-02   2.03368687e-03]]\n"
     ]
    }
   ],
   "source": [
    "bodies_ndarray = np.vstack((sun, jupiter, saturn, uranus, neptune))\n",
    "print(bodies_ndarray)\n",
    "bodies_ndarray[1:, 3:6] *= DAYS_PER_YEAR\n",
    "print(bodies_ndarray)\n",
    "bodies_ndarray[1:, -1:] *= SOLAR_MASS\n",
    "print(bodies_ndarray)"
   ]
  },
  {
   "cell_type": "code",
   "execution_count": 6,
   "metadata": {
    "collapsed": false
   },
   "outputs": [
    {
     "name": "stdout",
     "output_type": "stream",
     "text": [
      "[[  221.45465178  1027.05007524    -9.21075441]\n",
      " [ -369.1752222    666.80492447     3.07377269]\n",
      " [  395.47858719   317.28874276    -3.95651248]\n",
      " [  357.60309904   217.20786227   -12.69426519]]\n",
      "[[  0.00000000e+00   0.00000000e+00   0.00000000e+00   0.00000000e+00\n",
      "    0.00000000e+00   0.00000000e+00   3.94784176e+01]\n",
      " [  4.84143144e+00  -1.16032004e+00  -1.03622044e-01   2.21454652e+02\n",
      "    1.02705008e+03  -9.21075441e+00   3.76936749e-02]\n",
      " [  8.34336672e+00   4.12479856e+00  -4.03523417e-01  -3.69175222e+02\n",
      "    6.66804924e+02   3.07377269e+00   1.12863261e-02]\n",
      " [  1.28943696e+01  -1.51111514e+01  -2.23307579e-01   3.95478587e+02\n",
      "    3.17288743e+02  -3.95651248e+00   1.72372406e-03]\n",
      " [  1.53796971e+01  -2.59193146e+01   1.79258773e-01   3.57603099e+02\n",
      "    2.17207862e+02  -1.26942652e+01   2.03368687e-03]]\n"
     ]
    }
   ],
   "source": [
    "print(bodies_ndarray[1:, 3:6] * DAYS_PER_YEAR) \n",
    "bodies_ndarray[1:, 3:6] *= DAYS_PER_YEAR\n",
    "print(bodies_ndarray)"
   ]
  },
  {
   "cell_type": "code",
   "execution_count": 7,
   "metadata": {
    "collapsed": false
   },
   "outputs": [
    {
     "name": "stdout",
     "output_type": "stream",
     "text": [
      "[[    0.             0.             0.        ]\n",
      " [  221.45465178  1027.05007524    -9.21075441]\n",
      " [ -369.1752222    666.80492447     3.07377269]\n",
      " [  395.47858719   317.28874276    -3.95651248]\n",
      " [  357.60309904   217.20786227   -12.69426519]]\n",
      "[  3.94784176e+01   3.76936749e-02   1.12863261e-02   1.72372406e-03\n",
      "   2.03368687e-03]\n",
      "[[  0.00000000e+00   0.00000000e+00   0.00000000e+00]\n",
      " [  8.34743964e+00   3.87132916e+01  -3.47187182e-01]\n",
      " [ -4.16663196e+00   7.52577784e+00   3.46916010e-02]\n",
      " [  6.81695955e-01   5.46918239e-01  -6.81993575e-03]\n",
      " [  7.27252727e-01   4.41732778e-01  -2.58161604e-02]]\n"
     ]
    }
   ],
   "source": [
    "print(bodies_ndarray[:, 3:6])\n",
    "print(bodies_ndarray[:, -1].T)\n",
    "print((bodies_ndarray[:, 3:6].T * bodies_ndarray[:, -1]).T)"
   ]
  },
  {
   "cell_type": "code",
   "execution_count": 8,
   "metadata": {
    "collapsed": false
   },
   "outputs": [
    {
     "name": "stdout",
     "output_type": "stream",
     "text": [
      "[[  5.58975637  47.22772047  -0.34513168]]\n"
     ]
    }
   ],
   "source": [
    "bodies_ndarray[0:1, 0:3] = ((bodies_ndarray[:, 3:6].T * bodies_ndarray[:, -1]).T).sum(axis=0)\n",
    "print(bodies_ndarray[0:1, 0:3])\n"
   ]
  },
  {
   "cell_type": "code",
   "execution_count": 9,
   "metadata": {
    "collapsed": false
   },
   "outputs": [
    {
     "name": "stdout",
     "output_type": "stream",
     "text": [
      "[[ 0.14159018  1.19629213 -0.00874229]]\n"
     ]
    }
   ],
   "source": [
    "bodies_ndarray[0:1, 0:3] /= bodies_ndarray[0:1, -1:]\n",
    "print(bodies_ndarray[0:1, 0:3])"
   ]
  },
  {
   "cell_type": "code",
   "execution_count": 10,
   "metadata": {
    "collapsed": false
   },
   "outputs": [],
   "source": [
    "import itertools\n",
    "all_combinations = list(itertools.combinations(range(0, 5), 2))"
   ]
  },
  {
   "cell_type": "code",
   "execution_count": 11,
   "metadata": {
    "collapsed": false
   },
   "outputs": [
    {
     "data": {
      "text/plain": [
       "14"
      ]
     },
     "execution_count": 11,
     "metadata": {},
     "output_type": "execute_result"
    }
   ],
   "source": [
    "np.dot(np.array([1,2,3]), np.array([1,2,3]))"
   ]
  },
  {
   "cell_type": "code",
   "execution_count": 12,
   "metadata": {
    "collapsed": false
   },
   "outputs": [
    {
     "name": "stdout",
     "output_type": "stream",
     "text": [
      "[[    0.             0.             0.        ]\n",
      " [  221.45465178  1027.05007524    -9.21075441]\n",
      " [ -369.1752222    666.80492447     3.07377269]\n",
      " [  395.47858719   317.28874276    -3.95651248]\n",
      " [  357.60309904   217.20786227   -12.69426519]]\n",
      "[[    0.             0.             0.        ]\n",
      " [  221.45465178  1027.05007524    -9.21075441]\n",
      " [ -369.1752222    666.80492447     3.07377269]\n",
      " [  395.47858719   317.28874276    -3.95651248]\n",
      " [  357.60309904   217.20786227   -12.69426519]]\n",
      "[[    0.             0.             0.        ]\n",
      " [  221.45465178  1027.05007524    -9.21075441]\n",
      " [ -369.1752222    666.80492447     3.07377269]\n",
      " [  395.47858719   317.28874276    -3.95651248]\n",
      " [  357.60309904   217.20786227   -12.69426519]]\n",
      "[[    0.             0.             0.        ]\n",
      " [  221.45465178  1027.05007524    -9.21075441]\n",
      " [ -369.1752222    666.80492447     3.07377269]\n",
      " [  395.47858719   317.28874276    -3.95651248]\n",
      " [  357.60309904   217.20786227   -12.69426519]]\n",
      "[[    0.             0.             0.        ]\n",
      " [  221.45465178  1027.05007524    -9.21075441]\n",
      " [ -369.1752222    666.80492447     3.07377269]\n",
      " [  395.47858719   317.28874276    -3.95651248]\n",
      " [  357.60309904   217.20786227   -12.69426519]]\n",
      "[[    0.             0.             0.        ]\n",
      " [  221.45465178  1027.05007524    -9.21075441]\n",
      " [ -369.1752222    666.80492447     3.07377269]\n",
      " [  395.47858719   317.28874276    -3.95651248]\n",
      " [  357.60309904   217.20786227   -12.69426519]]\n",
      "[[    0.             0.             0.        ]\n",
      " [  221.45465178  1027.05007524    -9.21075441]\n",
      " [ -369.1752222    666.80492447     3.07377269]\n",
      " [  395.47858719   317.28874276    -3.95651248]\n",
      " [  357.60309904   217.20786227   -12.69426519]]\n",
      "[[    0.             0.             0.        ]\n",
      " [  221.45465178  1027.05007524    -9.21075441]\n",
      " [ -369.1752222    666.80492447     3.07377269]\n",
      " [  395.47858719   317.28874276    -3.95651248]\n",
      " [  357.60309904   217.20786227   -12.69426519]]\n",
      "[[    0.             0.             0.        ]\n",
      " [  221.45465178  1027.05007524    -9.21075441]\n",
      " [ -369.1752222    666.80492447     3.07377269]\n",
      " [  395.47858719   317.28874276    -3.95651248]\n",
      " [  357.60309904   217.20786227   -12.69426519]]\n",
      "[[    0.             0.             0.        ]\n",
      " [  221.45465178  1027.05007524    -9.21075441]\n",
      " [ -369.1752222    666.80492447     3.07377269]\n",
      " [  395.47858719   317.28874276    -3.95651248]\n",
      " [  357.60309904   217.20786227   -12.69426519]]\n"
     ]
    }
   ],
   "source": [
    "for body_idx_1, body_idx_2 in all_combinations:\n",
    "    deltas = bodies_ndarray[body_idx_1, 0:3] - bodies_ndarray[body_idx_2, 0:3]\n",
    "    mag = 0.01 * (np.linalg.norm(deltas) ** (0.5))\n",
    "    bodies_ndarray[body_idx_1, 0:3] -= deltas * mag * bodies_ndarray[body_idx_1, -1:]\n",
    "    bodies_ndarray[body_idx_2, 0:3] += deltas * mag * bodies_ndarray[body_idx_2, -1:]\n",
    "    bodies_ndarray[:, 0:3] += 0.01 * bodies_ndarray[:, 3:6]\n",
    "    print(bodies_ndarray[:, 3:6])\n",
    "    "
   ]
  },
  {
   "cell_type": "code",
   "execution_count": 13,
   "metadata": {
    "collapsed": false
   },
   "outputs": [
    {
     "name": "stdout",
     "output_type": "stream",
     "text": [
      "24276.1226094\n"
     ]
    }
   ],
   "source": [
    "e = 0.\n",
    "for body_idx_1, body_idx_2 in all_combinations:\n",
    "        # compute deltas\n",
    "        deltas = bodies_ndarray[body_idx_1, 0:3] - bodies_ndarray[body_idx_2, 0:3]\n",
    "        # compute energy\n",
    "        e -= bodies_ndarray[body_idx_1, -1] * bodies_ndarray[body_idx_2, -1] * np.linalg.norm(deltas)\n",
    "\n",
    "for i in range(bodies_ndarray.shape[0]):\n",
    "    e += bodies_ndarray[i, -1] * (np.linalg.norm(bodies_ndarray[i, 3:6]) ** 2) / 2\n",
    "    \n",
    "print(e)"
   ]
  },
  {
   "cell_type": "code",
   "execution_count": 14,
   "metadata": {
    "collapsed": false
   },
   "outputs": [
    {
     "ename": "NameError",
     "evalue": "name 'c' is not defined",
     "output_type": "error",
     "traceback": [
      "\u001b[0;31m---------------------------------------------------------------------------\u001b[0m",
      "\u001b[0;31mNameError\u001b[0m                                 Traceback (most recent call last)",
      "\u001b[0;32m<ipython-input-14-0c09e6557db6>\u001b[0m in \u001b[0;36m<module>\u001b[0;34m()\u001b[0m\n\u001b[0;32m----> 1\u001b[0;31m \u001b[0mc\u001b[0m\u001b[1;33m.\u001b[0m\u001b[0mshape\u001b[0m\u001b[1;33m\u001b[0m\u001b[0m\n\u001b[0m",
      "\u001b[0;31mNameError\u001b[0m: name 'c' is not defined"
     ]
    }
   ],
   "source": [
    "c.shape"
   ]
  },
  {
   "cell_type": "code",
   "execution_count": 15,
   "metadata": {
    "collapsed": false
   },
   "outputs": [
    {
     "data": {
      "text/plain": [
       "array([  5.58975637,  47.22772047,  -0.34513168])"
      ]
     },
     "execution_count": 15,
     "metadata": {},
     "output_type": "execute_result"
    }
   ],
   "source": [
    "((bodies_ndarray[:, 3:6].T * bodies_ndarray[:, -1]).T).sum(axis=0)"
   ]
  },
  {
   "cell_type": "code",
   "execution_count": 16,
   "metadata": {
    "collapsed": false
   },
   "outputs": [
    {
     "data": {
      "text/plain": [
       "5.2915026221291814"
      ]
     },
     "execution_count": 16,
     "metadata": {},
     "output_type": "execute_result"
    }
   ],
   "source": [
    "np.linalg.norm(np.hstack((a,b)))"
   ]
  },
  {
   "cell_type": "code",
   "execution_count": 24,
   "metadata": {
    "collapsed": false
   },
   "outputs": [
    {
     "name": "stdout",
     "output_type": "stream",
     "text": [
      "The slowest run took 6.21 times longer than the fastest. This could mean that an intermediate result is being cached.\n",
      "10000 loops, best of 3: 26.7 µs per loop\n",
      "1103958.85784\n"
     ]
    }
   ],
   "source": [
    "%timeit np.linalg.norm(bodies_ndarray[1, 3:6]) ** 2\n",
    "print(np.linalg.norm(bodies_ndarray[1, 3:6]) ** 2)"
   ]
  },
  {
   "cell_type": "code",
   "execution_count": 23,
   "metadata": {
    "collapsed": false
   },
   "outputs": [
    {
     "name": "stdout",
     "output_type": "stream",
     "text": [
      "The slowest run took 300.38 times longer than the fastest. This could mean that an intermediate result is being cached.\n",
      "10000 loops, best of 3: 17.8 µs per loop\n"
     ]
    }
   ],
   "source": [
    "%timeit np.sum(bodies_ndarray[1, 3:6] ** 2)"
   ]
  },
  {
   "cell_type": "code",
   "execution_count": 22,
   "metadata": {
    "collapsed": false
   },
   "outputs": [
    {
     "data": {
      "text/plain": [
       "array([1, 4, 9])"
      ]
     },
     "execution_count": 22,
     "metadata": {},
     "output_type": "execute_result"
    }
   ],
   "source": [
    "np.array([1,2,3]) ** 2"
   ]
  },
  {
   "cell_type": "code",
   "execution_count": 32,
   "metadata": {
    "collapsed": false
   },
   "outputs": [
    {
     "name": "stdout",
     "output_type": "stream",
     "text": [
      "1000 loops, best of 3: 145 µs per loop\n",
      "10000 loops, best of 3: 117 µs per loop\n"
     ]
    }
   ],
   "source": [
    "def fun_1(e=0.):\n",
    "    for i in range(bodies_ndarray.shape[0]): \n",
    "        e += bodies_ndarray[i, -1] * np.sum(bodies_ndarray[i, 3:6] ** 2) / 2.0\n",
    "        \n",
    "def fun_2():\n",
    "    return np.sum( (bodies_ndarray[i, -1] * np.sum(bodies_ndarray[i, 3:6] ** 2) / 2.0) for i in range(bodies_ndarray.shape[0]))\n",
    "\n",
    "%timeit fun_1()\n",
    "%timeit fun_2()"
   ]
  },
  {
   "cell_type": "code",
   "execution_count": 42,
   "metadata": {
    "collapsed": false
   },
   "outputs": [
    {
     "ename": "NameError",
     "evalue": "name 'dt' is not defined",
     "output_type": "error",
     "traceback": [
      "\u001b[0;31m---------------------------------------------------------------------------\u001b[0m",
      "\u001b[0;31mNameError\u001b[0m                                 Traceback (most recent call last)",
      "\u001b[0;32m<ipython-input-42-b0fcc5b71895>\u001b[0m in \u001b[0;36m<module>\u001b[0;34m()\u001b[0m\n\u001b[0;32m----> 1\u001b[0;31m \u001b[0mget_ipython\u001b[0m\u001b[1;33m(\u001b[0m\u001b[1;33m)\u001b[0m\u001b[1;33m.\u001b[0m\u001b[0mmagic\u001b[0m\u001b[1;33m(\u001b[0m\u001b[1;34m'timeit bodies_ndarray[:, 0:3] += dt * bodies_ndarray[:, 3:6]'\u001b[0m\u001b[1;33m)\u001b[0m\u001b[1;33m\u001b[0m\u001b[0m\n\u001b[0m",
      "\u001b[0;32mC:\\DevHome\\Python\\Anaconda3\\lib\\site-packages\\IPython\\core\\interactiveshell.py\u001b[0m in \u001b[0;36mmagic\u001b[0;34m(self, arg_s)\u001b[0m\n\u001b[1;32m   2156\u001b[0m         \u001b[0mmagic_name\u001b[0m\u001b[1;33m,\u001b[0m \u001b[0m_\u001b[0m\u001b[1;33m,\u001b[0m \u001b[0mmagic_arg_s\u001b[0m \u001b[1;33m=\u001b[0m \u001b[0marg_s\u001b[0m\u001b[1;33m.\u001b[0m\u001b[0mpartition\u001b[0m\u001b[1;33m(\u001b[0m\u001b[1;34m' '\u001b[0m\u001b[1;33m)\u001b[0m\u001b[1;33m\u001b[0m\u001b[0m\n\u001b[1;32m   2157\u001b[0m         \u001b[0mmagic_name\u001b[0m \u001b[1;33m=\u001b[0m \u001b[0mmagic_name\u001b[0m\u001b[1;33m.\u001b[0m\u001b[0mlstrip\u001b[0m\u001b[1;33m(\u001b[0m\u001b[0mprefilter\u001b[0m\u001b[1;33m.\u001b[0m\u001b[0mESC_MAGIC\u001b[0m\u001b[1;33m)\u001b[0m\u001b[1;33m\u001b[0m\u001b[0m\n\u001b[0;32m-> 2158\u001b[0;31m         \u001b[1;32mreturn\u001b[0m \u001b[0mself\u001b[0m\u001b[1;33m.\u001b[0m\u001b[0mrun_line_magic\u001b[0m\u001b[1;33m(\u001b[0m\u001b[0mmagic_name\u001b[0m\u001b[1;33m,\u001b[0m \u001b[0mmagic_arg_s\u001b[0m\u001b[1;33m)\u001b[0m\u001b[1;33m\u001b[0m\u001b[0m\n\u001b[0m\u001b[1;32m   2159\u001b[0m \u001b[1;33m\u001b[0m\u001b[0m\n\u001b[1;32m   2160\u001b[0m     \u001b[1;31m#-------------------------------------------------------------------------\u001b[0m\u001b[1;33m\u001b[0m\u001b[1;33m\u001b[0m\u001b[0m\n",
      "\u001b[0;32mC:\\DevHome\\Python\\Anaconda3\\lib\\site-packages\\IPython\\core\\interactiveshell.py\u001b[0m in \u001b[0;36mrun_line_magic\u001b[0;34m(self, magic_name, line)\u001b[0m\n\u001b[1;32m   2077\u001b[0m                 \u001b[0mkwargs\u001b[0m\u001b[1;33m[\u001b[0m\u001b[1;34m'local_ns'\u001b[0m\u001b[1;33m]\u001b[0m \u001b[1;33m=\u001b[0m \u001b[0msys\u001b[0m\u001b[1;33m.\u001b[0m\u001b[0m_getframe\u001b[0m\u001b[1;33m(\u001b[0m\u001b[0mstack_depth\u001b[0m\u001b[1;33m)\u001b[0m\u001b[1;33m.\u001b[0m\u001b[0mf_locals\u001b[0m\u001b[1;33m\u001b[0m\u001b[0m\n\u001b[1;32m   2078\u001b[0m             \u001b[1;32mwith\u001b[0m \u001b[0mself\u001b[0m\u001b[1;33m.\u001b[0m\u001b[0mbuiltin_trap\u001b[0m\u001b[1;33m:\u001b[0m\u001b[1;33m\u001b[0m\u001b[0m\n\u001b[0;32m-> 2079\u001b[0;31m                 \u001b[0mresult\u001b[0m \u001b[1;33m=\u001b[0m \u001b[0mfn\u001b[0m\u001b[1;33m(\u001b[0m\u001b[1;33m*\u001b[0m\u001b[0margs\u001b[0m\u001b[1;33m,\u001b[0m\u001b[1;33m**\u001b[0m\u001b[0mkwargs\u001b[0m\u001b[1;33m)\u001b[0m\u001b[1;33m\u001b[0m\u001b[0m\n\u001b[0m\u001b[1;32m   2080\u001b[0m             \u001b[1;32mreturn\u001b[0m \u001b[0mresult\u001b[0m\u001b[1;33m\u001b[0m\u001b[0m\n\u001b[1;32m   2081\u001b[0m \u001b[1;33m\u001b[0m\u001b[0m\n",
      "\u001b[0;32m<decorator-gen-59>\u001b[0m in \u001b[0;36mtimeit\u001b[0;34m(self, line, cell)\u001b[0m\n",
      "\u001b[0;32mC:\\DevHome\\Python\\Anaconda3\\lib\\site-packages\\IPython\\core\\magic.py\u001b[0m in \u001b[0;36m<lambda>\u001b[0;34m(f, *a, **k)\u001b[0m\n\u001b[1;32m    186\u001b[0m     \u001b[1;31m# but it's overkill for just that one bit of state.\u001b[0m\u001b[1;33m\u001b[0m\u001b[1;33m\u001b[0m\u001b[0m\n\u001b[1;32m    187\u001b[0m     \u001b[1;32mdef\u001b[0m \u001b[0mmagic_deco\u001b[0m\u001b[1;33m(\u001b[0m\u001b[0marg\u001b[0m\u001b[1;33m)\u001b[0m\u001b[1;33m:\u001b[0m\u001b[1;33m\u001b[0m\u001b[0m\n\u001b[0;32m--> 188\u001b[0;31m         \u001b[0mcall\u001b[0m \u001b[1;33m=\u001b[0m \u001b[1;32mlambda\u001b[0m \u001b[0mf\u001b[0m\u001b[1;33m,\u001b[0m \u001b[1;33m*\u001b[0m\u001b[0ma\u001b[0m\u001b[1;33m,\u001b[0m \u001b[1;33m**\u001b[0m\u001b[0mk\u001b[0m\u001b[1;33m:\u001b[0m \u001b[0mf\u001b[0m\u001b[1;33m(\u001b[0m\u001b[1;33m*\u001b[0m\u001b[0ma\u001b[0m\u001b[1;33m,\u001b[0m \u001b[1;33m**\u001b[0m\u001b[0mk\u001b[0m\u001b[1;33m)\u001b[0m\u001b[1;33m\u001b[0m\u001b[0m\n\u001b[0m\u001b[1;32m    189\u001b[0m \u001b[1;33m\u001b[0m\u001b[0m\n\u001b[1;32m    190\u001b[0m         \u001b[1;32mif\u001b[0m \u001b[0mcallable\u001b[0m\u001b[1;33m(\u001b[0m\u001b[0marg\u001b[0m\u001b[1;33m)\u001b[0m\u001b[1;33m:\u001b[0m\u001b[1;33m\u001b[0m\u001b[0m\n",
      "\u001b[0;32mC:\\DevHome\\Python\\Anaconda3\\lib\\site-packages\\IPython\\core\\magics\\execution.py\u001b[0m in \u001b[0;36mtimeit\u001b[0;34m(self, line, cell)\u001b[0m\n\u001b[1;32m   1042\u001b[0m             \u001b[0mnumber\u001b[0m \u001b[1;33m=\u001b[0m \u001b[1;36m1\u001b[0m\u001b[1;33m\u001b[0m\u001b[0m\n\u001b[1;32m   1043\u001b[0m             \u001b[1;32mfor\u001b[0m \u001b[0m_\u001b[0m \u001b[1;32min\u001b[0m \u001b[0mrange\u001b[0m\u001b[1;33m(\u001b[0m\u001b[1;36m1\u001b[0m\u001b[1;33m,\u001b[0m \u001b[1;36m10\u001b[0m\u001b[1;33m)\u001b[0m\u001b[1;33m:\u001b[0m\u001b[1;33m\u001b[0m\u001b[0m\n\u001b[0;32m-> 1044\u001b[0;31m                 \u001b[0mtime_number\u001b[0m \u001b[1;33m=\u001b[0m \u001b[0mtimer\u001b[0m\u001b[1;33m.\u001b[0m\u001b[0mtimeit\u001b[0m\u001b[1;33m(\u001b[0m\u001b[0mnumber\u001b[0m\u001b[1;33m)\u001b[0m\u001b[1;33m\u001b[0m\u001b[0m\n\u001b[0m\u001b[1;32m   1045\u001b[0m                 \u001b[0mworst_tuning\u001b[0m \u001b[1;33m=\u001b[0m \u001b[0mmax\u001b[0m\u001b[1;33m(\u001b[0m\u001b[0mworst_tuning\u001b[0m\u001b[1;33m,\u001b[0m \u001b[0mtime_number\u001b[0m \u001b[1;33m/\u001b[0m \u001b[0mnumber\u001b[0m\u001b[1;33m)\u001b[0m\u001b[1;33m\u001b[0m\u001b[0m\n\u001b[1;32m   1046\u001b[0m                 \u001b[1;32mif\u001b[0m \u001b[0mtime_number\u001b[0m \u001b[1;33m>=\u001b[0m \u001b[1;36m0.2\u001b[0m\u001b[1;33m:\u001b[0m\u001b[1;33m\u001b[0m\u001b[0m\n",
      "\u001b[0;32mC:\\DevHome\\Python\\Anaconda3\\lib\\site-packages\\IPython\\core\\magics\\execution.py\u001b[0m in \u001b[0;36mtimeit\u001b[0;34m(self, number)\u001b[0m\n\u001b[1;32m    137\u001b[0m         \u001b[0mgc\u001b[0m\u001b[1;33m.\u001b[0m\u001b[0mdisable\u001b[0m\u001b[1;33m(\u001b[0m\u001b[1;33m)\u001b[0m\u001b[1;33m\u001b[0m\u001b[0m\n\u001b[1;32m    138\u001b[0m         \u001b[1;32mtry\u001b[0m\u001b[1;33m:\u001b[0m\u001b[1;33m\u001b[0m\u001b[0m\n\u001b[0;32m--> 139\u001b[0;31m             \u001b[0mtiming\u001b[0m \u001b[1;33m=\u001b[0m \u001b[0mself\u001b[0m\u001b[1;33m.\u001b[0m\u001b[0minner\u001b[0m\u001b[1;33m(\u001b[0m\u001b[0mit\u001b[0m\u001b[1;33m,\u001b[0m \u001b[0mself\u001b[0m\u001b[1;33m.\u001b[0m\u001b[0mtimer\u001b[0m\u001b[1;33m)\u001b[0m\u001b[1;33m\u001b[0m\u001b[0m\n\u001b[0m\u001b[1;32m    140\u001b[0m         \u001b[1;32mfinally\u001b[0m\u001b[1;33m:\u001b[0m\u001b[1;33m\u001b[0m\u001b[0m\n\u001b[1;32m    141\u001b[0m             \u001b[1;32mif\u001b[0m \u001b[0mgcold\u001b[0m\u001b[1;33m:\u001b[0m\u001b[1;33m\u001b[0m\u001b[0m\n",
      "\u001b[0;32m<magic-timeit>\u001b[0m in \u001b[0;36minner\u001b[0;34m(_it, _timer)\u001b[0m\n",
      "\u001b[0;31mNameError\u001b[0m: name 'dt' is not defined"
     ]
    }
   ],
   "source": [
    "%timeit bodies_ndarray[:, 0:3] += dt * bodies_ndarray[:, 3:6]\n"
   ]
  },
  {
   "cell_type": "code",
   "execution_count": 44,
   "metadata": {
    "collapsed": false
   },
   "outputs": [
    {
     "name": "stdout",
     "output_type": "stream",
     "text": [
      "The slowest run took 5.31 times longer than the fastest. This could mean that an intermediate result is being cached.\n",
      "10000 loops, best of 3: 19.6 µs per loop\n"
     ]
    }
   ],
   "source": [
    "%timeit bodies_ndarray[:, 0:3] += 0.01 * bodies_ndarray[:, 3:6]"
   ]
  },
  {
   "cell_type": "code",
   "execution_count": 50,
   "metadata": {
    "collapsed": false
   },
   "outputs": [
    {
     "ename": "ValueError",
     "evalue": "shapes (2,3) and (2,3) not aligned: 3 (dim 1) != 2 (dim 0)",
     "output_type": "error",
     "traceback": [
      "\u001b[0;31m---------------------------------------------------------------------------\u001b[0m",
      "\u001b[0;31mValueError\u001b[0m                                Traceback (most recent call last)",
      "\u001b[0;32m<ipython-input-50-eb8a44781f7d>\u001b[0m in \u001b[0;36m<module>\u001b[0;34m()\u001b[0m\n\u001b[0;32m----> 1\u001b[0;31m \u001b[0mnp\u001b[0m\u001b[1;33m.\u001b[0m\u001b[0mdot\u001b[0m\u001b[1;33m(\u001b[0m\u001b[0mnp\u001b[0m\u001b[1;33m.\u001b[0m\u001b[0mvstack\u001b[0m\u001b[1;33m(\u001b[0m\u001b[1;33m(\u001b[0m\u001b[0ma\u001b[0m\u001b[1;33m,\u001b[0m\u001b[0mb\u001b[0m\u001b[1;33m)\u001b[0m\u001b[1;33m)\u001b[0m\u001b[1;33m,\u001b[0m \u001b[0mnp\u001b[0m\u001b[1;33m.\u001b[0m\u001b[0mvstack\u001b[0m\u001b[1;33m(\u001b[0m\u001b[1;33m(\u001b[0m\u001b[0ma\u001b[0m\u001b[1;33m,\u001b[0m\u001b[0mb\u001b[0m\u001b[1;33m)\u001b[0m\u001b[1;33m)\u001b[0m\u001b[1;33m)\u001b[0m\u001b[1;33m\u001b[0m\u001b[0m\n\u001b[0m",
      "\u001b[0;31mValueError\u001b[0m: shapes (2,3) and (2,3) not aligned: 3 (dim 1) != 2 (dim 0)"
     ]
    }
   ],
   "source": [
    "np.dot(np.vstack((a,b)), np.vstack((a,b)))"
   ]
  },
  {
   "cell_type": "code",
   "execution_count": 51,
   "metadata": {
    "collapsed": false
   },
   "outputs": [
    {
     "data": {
      "text/plain": [
       "array([[1, 4, 9],\n",
       "       [1, 4, 9]])"
      ]
     },
     "execution_count": 51,
     "metadata": {},
     "output_type": "execute_result"
    }
   ],
   "source": [
    "np.vstack((a,b)) * np.vstack((a,b))"
   ]
  },
  {
   "cell_type": "code",
   "execution_count": 52,
   "metadata": {
    "collapsed": false
   },
   "outputs": [
    {
     "data": {
      "text/plain": [
       "array([[1, 2, 3],\n",
       "       [1, 2, 3]])"
      ]
     },
     "execution_count": 52,
     "metadata": {},
     "output_type": "execute_result"
    }
   ],
   "source": [
    "np.vstack((a,b))"
   ]
  },
  {
   "cell_type": "code",
   "execution_count": 53,
   "metadata": {
    "collapsed": false
   },
   "outputs": [
    {
     "data": {
      "text/plain": [
       "array([[ 1.        ,  1.41421356,  1.73205081],\n",
       "       [ 1.        ,  1.41421356,  1.73205081]])"
      ]
     },
     "execution_count": 53,
     "metadata": {},
     "output_type": "execute_result"
    }
   ],
   "source": [
    "np.sqrt((a,b))"
   ]
  },
  {
   "cell_type": "code",
   "execution_count": 54,
   "metadata": {
    "collapsed": false
   },
   "outputs": [
    {
     "data": {
      "text/plain": [
       "range(0, 26)"
      ]
     },
     "execution_count": 54,
     "metadata": {},
     "output_type": "execute_result"
    }
   ],
   "source": [
    "range(26)"
   ]
  },
  {
   "cell_type": "code",
   "execution_count": 55,
   "metadata": {
    "collapsed": false
   },
   "outputs": [
    {
     "data": {
      "text/plain": [
       "range(1, 26)"
      ]
     },
     "execution_count": 55,
     "metadata": {},
     "output_type": "execute_result"
    }
   ],
   "source": [
    "range(1,26)"
   ]
  },
  {
   "cell_type": "code",
   "execution_count": 56,
   "metadata": {
    "collapsed": false
   },
   "outputs": [
    {
     "data": {
      "text/plain": [
       "[1,\n",
       " 2,\n",
       " 3,\n",
       " 4,\n",
       " 5,\n",
       " 6,\n",
       " 7,\n",
       " 8,\n",
       " 9,\n",
       " 10,\n",
       " 11,\n",
       " 12,\n",
       " 13,\n",
       " 14,\n",
       " 15,\n",
       " 16,\n",
       " 17,\n",
       " 18,\n",
       " 19,\n",
       " 20,\n",
       " 21,\n",
       " 22,\n",
       " 23,\n",
       " 24,\n",
       " 25]"
      ]
     },
     "execution_count": 56,
     "metadata": {},
     "output_type": "execute_result"
    }
   ],
   "source": [
    "list(range(1,26))"
   ]
  },
  {
   "cell_type": "code",
   "execution_count": 59,
   "metadata": {
    "collapsed": false
   },
   "outputs": [
    {
     "name": "stdout",
     "output_type": "stream",
     "text": [
      "2\n",
      "3\n",
      "2\n",
      "2\n",
      "3\n"
     ]
    }
   ],
   "source": [
    "class C:\n",
    "  dangerous = 2\n",
    "\n",
    "c1 = C()\n",
    "c2 = C()\n",
    "print(c1.dangerous)\n",
    "c1.dangerous = 3\n",
    "print(c1.dangerous)\n",
    "print(c2.dangerous) \n",
    "del c1.dangerous\n",
    "print(c1.dangerous) \n",
    "C.dangerous = 3\n",
    "print(c2.dangerous)"
   ]
  },
  {
   "cell_type": "code",
   "execution_count": null,
   "metadata": {
    "collapsed": true
   },
   "outputs": [],
   "source": []
  }
 ],
 "metadata": {
  "anaconda-cloud": {},
  "kernelspec": {
   "display_name": "Python [conda root]",
   "language": "python",
   "name": "conda-root-py"
  },
  "language_info": {
   "codemirror_mode": {
    "name": "ipython",
    "version": 3
   },
   "file_extension": ".py",
   "mimetype": "text/x-python",
   "name": "python",
   "nbconvert_exporter": "python",
   "pygments_lexer": "ipython3",
   "version": "3.5.2"
  }
 },
 "nbformat": 4,
 "nbformat_minor": 1
}
