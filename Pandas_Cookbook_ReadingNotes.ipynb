{
 "cells": [
  {
   "cell_type": "markdown",
   "metadata": {},
   "source": [
    "### What does pandas consist of?\n",
    "* DS: Series(Homo-), DataFrame(Hetero-), Panel\n",
    "* Index objects: Hierarchical axis indexing\n",
    "* **Group by engine**: aggregating & transfroming\n",
    "* Date tools: range, offset, frequencies\n",
    "* I/O tools: CSV, XLS, HDF5/PyTables, SQL DB\n",
    "* Mem-effcient DS for sparse data\n",
    "* Sliding windows tools: statistics, rolling mean, rolling st.d, regression, etc.\n",
    "\n",
    "### Misc.\n",
    "* Series, DataFrame, Panel -> container hierarchy + dict-like operations\n",
    "* numpy axis v.s. pandas's design: the **index (the rows)** and the **columns**\n",
    "* **Size-mutable**: Columns can be inserted and deleted from data structures for size mutability\n",
    "* \n",
    "* \n",
    "* Short-hand: \n",
    "  - pandas does not implement significant modeling functionality outside of linear and panel regression; for this, look to statsmodels and scikit-learn. \n",
    "\n",
    "### Misc.Misc.\n",
    "* pandas development began at **AQR Capital Management** in April 2008\n",
    "* 3-clause (\"Simplified\" or \"New\") BSD license"
   ]
  },
  {
   "cell_type": "markdown",
   "metadata": {},
   "source": [
    "### 10-Min to pandas\n",
    "\n",
    "* Object Creation\n",
    "  - Intro to DS in pandas\n",
    "  - IPython, tab completion for column names, and public attributes\n",
    "  \n",
    "* Viewing Data\n",
    "  - df.head(), df.tail()\n",
    "  - df.index, df.columns, df.values, df.T\n",
    "  - df.sort_index(axis=...), df.sort_values(by=...)\n",
    "  \n",
    "* Selection\n",
    "  - optimized access methods: .at, .iat, .loc, .iloc and .ix.\n",
    "  - Selecting via df.[a:b], which slices the rows.\n",
    "  - Selecting a single column, which yields a Series\n",
    "  - Selection by Label\n",
    "      - df.loc[]\n",
    "      - df.loc[:,['A','B']]: multi-axis label selecting\n",
    "      - **both endpoints are included**\n",
    "  - Selection by Position\n",
    "      - .iloc[]\n",
    "      - **right end-piont exclusive**\n",
    "  - Boolean Indexing\n",
    "      - where operation\n",
    "      - isin() method filtering\n",
    "* Setting\n",
    "  - by label, by position, \n",
    "  - by *`where`* operation\n",
    "  - assign numpy array\n",
    "* Missing Data\n",
    "  - df.reindex: returns a **copy** of the data\n",
    "  - df1.dropna(how='any')\n",
    "  - df1.fillna(value=5)\n",
    "  - get the boolean mask where values are nan: pd.isnull(df1)\n",
    "* Operations\n",
    "  - Stats\n",
    "  - Apply\n",
    "  - Histogramming and Discretization\n",
    "  - String Methods: obj_series.str.<string_method>()\n",
    "      - pattern-matching use RegEx by default, some cases is *always*\n",
    "      - [Vectorized String Methods](http://pandas.pydata.org/pandas-docs/stable/text.html#text-string-methods)\n",
    "* Merge\n",
    "  - Concat\n",
    "      pd.concat([...])\n",
    "  - Join: SQL style merges. \n",
    "    ```python\n",
    "        left = pd.DataFrame({'key': ['foo', 'bar'], 'lval': [1, 2]})\n",
    "        right = pd.DataFrame({'key': ['foo', 'bar'], 'rval': [4, 5]})\n",
    "        pd.merge(left, right, on='key')\n",
    "    ```\n",
    "    \n",
    "  - Append\n",
    "    ```python\n",
    "        df = pd.DataFrame(np.random.randn(8, 4), columns=['A','B','C','D'])\n",
    "        s = df.iloc[3]\n",
    "        df.append(s, ignore_index=True)\n",
    "    ```\n",
    "* Grouping\n",
    "  - **Splitting** the data into groups based on some criteria\n",
    "  - **Applying** a function to each group independently\n",
    "  - **Combining** the results into a data structure\n",
    "  - One or more of the above\n",
    "  - e.g. df.groupby('A').sum(), df.groupby(['A', 'B']).sum()\n",
    "* Reshaping\n",
    "  - stack & unstack & unstack by level\n",
    "  - pivot table (using stack/unstack underlying)\n",
    "* Time Series\n",
    "* Categoricals ????? [link](http://pandas.pydata.org/pandas-docs/stable/10min.html#categoricals)\n",
    "* Plotting\n",
    "* Getting Data In/Out\n"
   ]
  },
  {
   "cell_type": "code",
   "execution_count": 7,
   "metadata": {
    "collapsed": false
   },
   "outputs": [
    {
     "data": {
      "text/html": [
       "<div>\n",
       "<table border=\"1\" class=\"dataframe\">\n",
       "  <thead>\n",
       "    <tr style=\"text-align: right;\">\n",
       "      <th></th>\n",
       "      <th>AAA</th>\n",
       "      <th>BBB</th>\n",
       "      <th>CCC</th>\n",
       "    </tr>\n",
       "  </thead>\n",
       "  <tbody>\n",
       "    <tr>\n",
       "      <th>0</th>\n",
       "      <td>4</td>\n",
       "      <td>10</td>\n",
       "      <td>100</td>\n",
       "    </tr>\n",
       "    <tr>\n",
       "      <th>1</th>\n",
       "      <td>5</td>\n",
       "      <td>20</td>\n",
       "      <td>50</td>\n",
       "    </tr>\n",
       "    <tr>\n",
       "      <th>2</th>\n",
       "      <td>6</td>\n",
       "      <td>30</td>\n",
       "      <td>-30</td>\n",
       "    </tr>\n",
       "    <tr>\n",
       "      <th>3</th>\n",
       "      <td>7</td>\n",
       "      <td>40</td>\n",
       "      <td>-50</td>\n",
       "    </tr>\n",
       "  </tbody>\n",
       "</table>\n",
       "</div>"
      ],
      "text/plain": [
       "   AAA  BBB  CCC\n",
       "0    4   10  100\n",
       "1    5   20   50\n",
       "2    6   30  -30\n",
       "3    7   40  -50"
      ]
     },
     "execution_count": 7,
     "metadata": {},
     "output_type": "execute_result"
    }
   ],
   "source": [
    "import numpy as np\n",
    "import pandas as pd\n",
    "import matplotlib.pyplot as plt\n",
    "\n",
    "df = pd.DataFrame({'AAA' : [4,5,6,7], 'BBB' : [10,20,30,40],'CCC' : [100,50,-30,-50]})"
   ]
  },
  {
   "cell_type": "code",
   "execution_count": 11,
   "metadata": {
    "collapsed": false
   },
   "outputs": [
    {
     "name": "stdout",
     "output_type": "stream",
     "text": [
      "   AAA  BBB  CCC\n",
      "0    4   10  100\n",
      "1    5   20   50\n",
      "2    6   30  -30\n",
      "3    7   40  -50\n"
     ]
    },
    {
     "data": {
      "text/html": [
       "<div>\n",
       "<table border=\"1\" class=\"dataframe\">\n",
       "  <thead>\n",
       "    <tr style=\"text-align: right;\">\n",
       "      <th></th>\n",
       "      <th>AAA</th>\n",
       "      <th>BBB</th>\n",
       "      <th>CCC</th>\n",
       "    </tr>\n",
       "  </thead>\n",
       "  <tbody>\n",
       "    <tr>\n",
       "      <th>0</th>\n",
       "      <td>4</td>\n",
       "      <td>10</td>\n",
       "      <td>100</td>\n",
       "    </tr>\n",
       "    <tr>\n",
       "      <th>1</th>\n",
       "      <td>5</td>\n",
       "      <td>20</td>\n",
       "      <td>50</td>\n",
       "    </tr>\n",
       "    <tr>\n",
       "      <th>2</th>\n",
       "      <td>6</td>\n",
       "      <td>30</td>\n",
       "      <td>-30</td>\n",
       "    </tr>\n",
       "    <tr>\n",
       "      <th>3</th>\n",
       "      <td>7</td>\n",
       "      <td>40</td>\n",
       "      <td>-50</td>\n",
       "    </tr>\n",
       "  </tbody>\n",
       "</table>\n",
       "</div>"
      ],
      "text/plain": [
       "   AAA  BBB  CCC\n",
       "0    4   10  100\n",
       "1    5   20   50\n",
       "2    6   30  -30\n",
       "3    7   40  -50"
      ]
     },
     "execution_count": 11,
     "metadata": {},
     "output_type": "execute_result"
    }
   ],
   "source": [
    "print(df)\n",
    "df"
   ]
  },
  {
   "cell_type": "code",
   "execution_count": null,
   "metadata": {
    "collapsed": true
   },
   "outputs": [],
   "source": []
  }
 ],
 "metadata": {
  "kernelspec": {
   "display_name": "Python 3",
   "language": "python",
   "name": "python3"
  },
  "language_info": {
   "codemirror_mode": {
    "name": "ipython",
    "version": 3
   },
   "file_extension": ".py",
   "mimetype": "text/x-python",
   "name": "python",
   "nbconvert_exporter": "python",
   "pygments_lexer": "ipython3",
   "version": "3.5.2"
  }
 },
 "nbformat": 4,
 "nbformat_minor": 1
}
